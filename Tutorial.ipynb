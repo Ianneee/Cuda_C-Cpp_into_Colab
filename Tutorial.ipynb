{
  "nbformat": 4,
  "nbformat_minor": 0,
  "metadata": {
    "colab": {
      "provenance": [],
      "gpuType": "T4",
      "authorship_tag": "ABX9TyNmJKZ+Ci3Vwc4TV9LMo9Rq",
      "include_colab_link": true
    },
    "kernelspec": {
      "name": "python3",
      "display_name": "Python 3"
    },
    "language_info": {
      "name": "python"
    },
    "accelerator": "GPU"
  },
  "cells": [
    {
      "cell_type": "markdown",
      "metadata": {
        "id": "view-in-github",
        "colab_type": "text"
      },
      "source": [
        "<a href=\"https://colab.research.google.com/github/Ianneee/Cuda_C-Cpp_into_Colab/blob/main/Tutorial.ipynb\" target=\"_parent\"><img src=\"https://colab.research.google.com/assets/colab-badge.svg\" alt=\"Open In Colab\"/></a>"
      ]
    },
    {
      "cell_type": "markdown",
      "source": [
        "# C/C++ Cuda source code into Colab\n",
        "\n",
        "## Prepare the notebook\n",
        "\n",
        "1. Activate gpu runtime: click on `Runtime > Change runtime type > T4 GPU` or any other GPU if you have a paid plan.\n",
        "\n",
        "2. Add in a code cell the following lines to download the [NVCC plugin](https://github.com/andreinechaev/nvcc4jupyter) for Jupyter Notebook and load:"
      ],
      "metadata": {
        "id": "ZRI-NzPXaxpI"
      }
    },
    {
      "cell_type": "code",
      "execution_count": null,
      "metadata": {
        "colab": {
          "base_uri": "https://localhost:8080/"
        },
        "id": "LFaAUnQTaxE3",
        "outputId": "6693c820-a023-4c75-fb27-bca72b2bc460"
      },
      "outputs": [
        {
          "output_type": "stream",
          "name": "stdout",
          "text": [
            "Collecting git+https://github.com/andreinechaev/nvcc4jupyter.git\n",
            "  Cloning https://github.com/andreinechaev/nvcc4jupyter.git to /tmp/pip-req-build-1c6zbybh\n",
            "  Running command git clone --filter=blob:none --quiet https://github.com/andreinechaev/nvcc4jupyter.git /tmp/pip-req-build-1c6zbybh\n",
            "  Resolved https://github.com/andreinechaev/nvcc4jupyter.git to commit aac710a35f52bb78ab34d2e52517237941399eff\n",
            "  Preparing metadata (setup.py) ... \u001b[?25l\u001b[?25hdone\n",
            "Building wheels for collected packages: NVCCPlugin\n",
            "  Building wheel for NVCCPlugin (setup.py) ... \u001b[?25l\u001b[?25hdone\n",
            "  Created wheel for NVCCPlugin: filename=NVCCPlugin-0.0.2-py3-none-any.whl size=4288 sha256=fe59a6f69fd2dbeebe3d8a685e4834e4025ccb6d82e9bd1f571853c6c56ee212\n",
            "  Stored in directory: /tmp/pip-ephem-wheel-cache-7ldsfmu0/wheels/a8/b9/18/23f8ef71ceb0f63297dd1903aedd067e6243a68ea756d6feea\n",
            "Successfully built NVCCPlugin\n",
            "Installing collected packages: NVCCPlugin\n",
            "Successfully installed NVCCPlugin-0.0.2\n",
            "created output directory at /content/src\n",
            "Out bin /content/result.out\n"
          ]
        }
      ],
      "source": [
        "!pip install git+https://github.com/andreinechaev/nvcc4jupyter.git\n",
        "%load_ext nvcc_plugin"
      ]
    },
    {
      "cell_type": "markdown",
      "source": [
        "3. You can verify the installed NVCC version with:"
      ],
      "metadata": {
        "id": "0I8Vbcqqckcs"
      }
    },
    {
      "cell_type": "code",
      "source": [
        "!nvcc --version"
      ],
      "metadata": {
        "colab": {
          "base_uri": "https://localhost:8080/"
        },
        "id": "UEW6QI_Scj-8",
        "outputId": "fadfe248-6e4e-489a-be9c-1928a1a4bde5"
      },
      "execution_count": null,
      "outputs": [
        {
          "output_type": "stream",
          "name": "stdout",
          "text": [
            "nvcc: NVIDIA (R) Cuda compiler driver\n",
            "Copyright (c) 2005-2022 NVIDIA Corporation\n",
            "Built on Wed_Sep_21_10:33:58_PDT_2022\n",
            "Cuda compilation tools, release 11.8, V11.8.89\n",
            "Build cuda_11.8.r11.8/compiler.31833905_0\n"
          ]
        }
      ]
    },
    {
      "cell_type": "markdown",
      "source": [
        "## Running the code\n",
        "\n",
        "1. You can paste your source code into a Code cell adding into the first line\n",
        "```\n",
        "%%cu\n",
        "```\n",
        "to execute the cell with CUDA."
      ],
      "metadata": {
        "id": "YgcOskOmc3PM"
      }
    },
    {
      "cell_type": "code",
      "source": [
        "%%cu\n",
        "#include <cuda.h>\n",
        "#include <stdio.h>\n",
        "\n",
        "int main(){\n",
        "    int deviceCount = 0;\n",
        "    cudaGetDeviceCount(&deviceCount);\n",
        "    if (deviceCount == 0) printf(\"No cuda device found\\n\");\n",
        "    else {\n",
        "        printf(\"Found %d devices\\n\", deviceCount);\n",
        "        cudaDeviceProp pr;\n",
        "        for (int i=0; i<deviceCount; i++){\n",
        "            cudaGetDeviceProperties(&pr, i);\n",
        "            printf(\"Device Number: %d\\n\", i);\n",
        "            printf(\"  Device name: %s\\n\", pr.name);\n",
        "            printf(\"  Memory Clock Rate (MHz): %d\\n\", pr.memoryClockRate/1024);\n",
        "            printf(\"  Memory Bus Width (bits): %d\\n\", pr.memoryBusWidth);\n",
        "            printf(\"  Peak Memory Bandwidth (GB/s): %.1f\\n\", 2.0*pr.memoryClockRate*(pr.memoryBusWidth/8)/1.0e6);\n",
        "            printf(\"  Total global memory (Gbytes) %.1f\\n\",(float)(pr.totalGlobalMem)/1024.0/1024.0/1024.0);\n",
        "            printf(\"  Shared memory per block (Kbytes) %.1f\\n\",(float)(pr.sharedMemPerBlock)/1024.0);\n",
        "            printf(\"  minor-major: %d-%d\\n\", pr.minor, pr.major);\n",
        "            printf(\"  Warp-size: %d\\n\", pr.warpSize);\n",
        "            printf(\"  Concurrent kernels: %s\\n\", pr.concurrentKernels ? \"yes\" : \"no\");\n",
        "            printf(\"  Concurrent computation/communication: %s\\n\\n\",pr.deviceOverlap ? \"yes\" : \"no\");\n",
        "\n",
        "            printf(\"  Max Thread per block: %d\\n\", pr.maxThreadsPerBlock);\n",
        "            printf(\"  Max Thread per multiprocessor: %d\\n\", pr.maxThreadsPerMultiProcessor);\n",
        "            printf(\"  Max Thread Multi processor Count: %d\\n\", pr.multiProcessorCount);\n",
        "            printf(\"  Multi processor count: %d\\n\\n\", pr.multiProcessorCount);\n",
        "        }\n",
        "    }\n",
        "}\n"
      ],
      "metadata": {
        "colab": {
          "base_uri": "https://localhost:8080/"
        },
        "id": "T6F4UDl3csP4",
        "outputId": "b4e138a4-b21c-4a36-c5e3-802ebde3e9a4"
      },
      "execution_count": null,
      "outputs": [
        {
          "output_type": "stream",
          "name": "stdout",
          "text": [
            "Found 1 devices\n",
            "Device Number: 0\n",
            "  Device name: Tesla T4\n",
            "  Memory Clock Rate (MHz): 4883\n",
            "  Memory Bus Width (bits): 256\n",
            "  Peak Memory Bandwidth (GB/s): 320.1\n",
            "  Total global memory (Gbytes) 14.7\n",
            "  Shared memory per block (Kbytes) 48.0\n",
            "  minor-major: 5-7\n",
            "  Warp-size: 32\n",
            "  Concurrent kernels: yes\n",
            "  Concurrent computation/communication: yes\n",
            "\n",
            "  Max Thread per block: 1024\n",
            "  Max Thread per multiprocessor: 1024\n",
            "  Max Thread Multi processor Count: 40\n",
            "  Multi processor count: 40\n",
            "\n",
            "\n"
          ]
        }
      ]
    },
    {
      "cell_type": "markdown",
      "source": [
        "2. Or you can upload (or download) your sources files into Colab in a folder named `src` and run the following cell:"
      ],
      "metadata": {
        "id": "lMG8FOWBeIiR"
      }
    },
    {
      "cell_type": "code",
      "source": [
        "%%cuda_run\n",
        "# This line just to bypass an exeption and can contain any text"
      ],
      "metadata": {
        "id": "gd6Hw0-Te2bB"
      },
      "execution_count": null,
      "outputs": []
    },
    {
      "cell_type": "markdown",
      "source": [
        "The plugin will automatically find all your .cu and .h files, compile them and run.\n",
        "If you don't have already run any cell with the plugin you have to create manually that folder."
      ],
      "metadata": {
        "id": "4W0ABvKhe7Xr"
      }
    },
    {
      "cell_type": "markdown",
      "source": [
        "_Note: at 05 August 2023 %%cuda_run has a bug and can't run. I've submitted a pull request with a fix and i'm waiting for it to be accepted._"
      ],
      "metadata": {
        "id": "COS_SJyxfXeD"
      }
    }
  ]
}