{
  "nbformat": 4,
  "nbformat_minor": 0,
  "metadata": {
    "colab": {
      "provenance": [],
      "gpuType": "T4",
      "authorship_tag": "ABX9TyNwZxug5tTjdKr5/PIp/GBb",
      "include_colab_link": true
    },
    "kernelspec": {
      "name": "python3",
      "display_name": "Python 3"
    },
    "language_info": {
      "name": "python"
    },
    "accelerator": "GPU"
  },
  "cells": [
    {
      "cell_type": "markdown",
      "metadata": {
        "id": "view-in-github",
        "colab_type": "text"
      },
      "source": [
        "<a href=\"https://colab.research.google.com/github/Ianneee/Cuda_C-Cpp_into_Colab/blob/main/Tutorial.ipynb\" target=\"_parent\"><img src=\"https://colab.research.google.com/assets/colab-badge.svg\" alt=\"Open In Colab\"/></a>"
      ]
    },
    {
      "cell_type": "markdown",
      "source": [
        "# C/C++ Cuda source code into Colab\n",
        "\n",
        "You can run your CUDA source code in two ways: by directly uploading them in Colab to compile and execute or by using a plugin for Jupyter Notebook that enables you to write C code directly within a code cell and then run it with CUDA.\n",
        "\n",
        "NVCC is already installed in the VM where the notebook is launched, there is no need to install any additional software.\\\n",
        "You can verify the installed version with:"
      ],
      "metadata": {
        "id": "gnNXkOolhdE7"
      }
    },
    {
      "cell_type": "code",
      "source": [
        "!nvcc --version"
      ],
      "metadata": {
        "id": "UEW6QI_Scj-8",
        "colab": {
          "base_uri": "https://localhost:8080/"
        },
        "outputId": "1306c6fa-eaa0-40f7-c8e6-6bc1cec870cf"
      },
      "execution_count": 1,
      "outputs": [
        {
          "output_type": "stream",
          "name": "stdout",
          "text": [
            "nvcc: NVIDIA (R) Cuda compiler driver\n",
            "Copyright (c) 2005-2022 NVIDIA Corporation\n",
            "Built on Wed_Sep_21_10:33:58_PDT_2022\n",
            "Cuda compilation tools, release 11.8, V11.8.89\n",
            "Build cuda_11.8.r11.8/compiler.31833905_0\n"
          ]
        }
      ]
    },
    {
      "cell_type": "markdown",
      "source": [
        "## Without any plugin\n",
        "\n",
        "1. Activate gpu runtime: click on `Runtime > Change runtime type > T4 GPU` or any other GPU if you have a paid plan.\n",
        "\n",
        "2. Upload (or download) your source files into Colab."
      ],
      "metadata": {
        "id": "ZRI-NzPXaxpI"
      }
    },
    {
      "cell_type": "code",
      "source": [
        "# Upload - more functionalities of Colab here: https://colab.research.google.com/notebooks/io.ipynb\n",
        "from google.colab import files\n",
        "uploaded = files.upload()"
      ],
      "metadata": {
        "id": "USXR06wKpWst"
      },
      "execution_count": null,
      "outputs": []
    },
    {
      "cell_type": "code",
      "source": [
        "# Download - Run this to try it!\n",
        "!wget https://raw.githubusercontent.com/Ianneee/Cuda_C-Cpp_into_Colab/main/get_devices.cu"
      ],
      "metadata": {
        "id": "XDmYdiKDe9yN"
      },
      "execution_count": null,
      "outputs": []
    },
    {
      "cell_type": "markdown",
      "source": [
        "3. Write a `!`, for use shell commands, and after it the command for compile your downloaded file."
      ],
      "metadata": {
        "id": "JMlKrS0Rgbdg"
      }
    },
    {
      "cell_type": "code",
      "source": [
        "!nvcc -Werror all-warnings get_devices.cu -o get_devices"
      ],
      "metadata": {
        "id": "Qh08r32WfCKP"
      },
      "execution_count": null,
      "outputs": []
    },
    {
      "cell_type": "markdown",
      "source": [
        "4. Finally you can run your executable."
      ],
      "metadata": {
        "id": "B87m7F9Vgn3q"
      }
    },
    {
      "cell_type": "code",
      "source": [
        "!./get_devices"
      ],
      "metadata": {
        "id": "4mYQrKdsfYyg"
      },
      "execution_count": null,
      "outputs": []
    },
    {
      "cell_type": "markdown",
      "source": [
        "## With nvcc4jupyter plugin\n",
        "\n",
        "1. Activate gpu runtime: click on `Runtime > Change runtime type > T4 GPU` or any other GPU if you have a paid plan.\n",
        "\n",
        "2. Add in a code cell the following lines to download the [plugin](https://github.com/andreinechaev/nvcc4jupyter) for Jupyter Notebook and load it:"
      ],
      "metadata": {
        "id": "rz9Uxym0g6JL"
      }
    },
    {
      "cell_type": "code",
      "execution_count": null,
      "metadata": {
        "id": "LFaAUnQTaxE3"
      },
      "outputs": [],
      "source": [
        "!pip install git+https://github.com/andreinechaev/nvcc4jupyter.git\n",
        "%load_ext nvcc_plugin"
      ]
    },
    {
      "cell_type": "markdown",
      "source": [
        "## Run the code\n",
        "\n",
        "1. You can paste your source code into a Code cell adding into the first line\n",
        "```\n",
        "%%cu\n",
        "```\n",
        "to execute the cell with CUDA."
      ],
      "metadata": {
        "id": "YgcOskOmc3PM"
      }
    },
    {
      "cell_type": "code",
      "source": [
        "%%cu\n",
        "#include <cuda.h>\n",
        "#include <stdio.h>\n",
        "\n",
        "int main(){\n",
        "    int deviceCount = 0;\n",
        "    cudaGetDeviceCount(&deviceCount);\n",
        "    if (deviceCount == 0) printf(\"No cuda device found\\n\");\n",
        "    else {\n",
        "        printf(\"Found %d devices\\n\", deviceCount);\n",
        "        cudaDeviceProp pr;\n",
        "        for (int i=0; i<deviceCount; i++){\n",
        "            cudaGetDeviceProperties(&pr, i);\n",
        "            printf(\"Device Number: %d\\n\", i);\n",
        "            printf(\"  Device name: %s\\n\", pr.name);\n",
        "            printf(\"  Memory Clock Rate (MHz): %d\\n\", pr.memoryClockRate/1024);\n",
        "            printf(\"  Memory Bus Width (bits): %d\\n\", pr.memoryBusWidth);\n",
        "            printf(\"  Peak Memory Bandwidth (GB/s): %.1f\\n\", 2.0*pr.memoryClockRate*(pr.memoryBusWidth/8)/1.0e6);\n",
        "            printf(\"  Total global memory (Gbytes) %.1f\\n\",(float)(pr.totalGlobalMem)/1024.0/1024.0/1024.0);\n",
        "            printf(\"  Shared memory per block (Kbytes) %.1f\\n\",(float)(pr.sharedMemPerBlock)/1024.0);\n",
        "            printf(\"  minor-major: %d-%d\\n\", pr.minor, pr.major);\n",
        "            printf(\"  Warp-size: %d\\n\", pr.warpSize);\n",
        "            printf(\"  Concurrent kernels: %s\\n\", pr.concurrentKernels ? \"yes\" : \"no\");\n",
        "            printf(\"  Concurrent computation/communication: %s\\n\\n\",pr.deviceOverlap ? \"yes\" : \"no\");\n",
        "\n",
        "            printf(\"  Max Thread per block: %d\\n\", pr.maxThreadsPerBlock);\n",
        "            printf(\"  Max Thread per multiprocessor: %d\\n\", pr.maxThreadsPerMultiProcessor);\n",
        "            printf(\"  Max Thread Multi processor Count: %d\\n\", pr.multiProcessorCount);\n",
        "            printf(\"  Multi processor count: %d\\n\\n\", pr.multiProcessorCount);\n",
        "        }\n",
        "    }\n",
        "}\n"
      ],
      "metadata": {
        "id": "T6F4UDl3csP4"
      },
      "execution_count": null,
      "outputs": []
    },
    {
      "cell_type": "markdown",
      "source": [
        "2. Or you can also upload (or download) your sources files into Colab in a folder named `src` and run a code cell with the mark _%%cuda_run_ in it.\n",
        "The plugin will automatically find all your .cu and .h files, compile them and run.\n",
        "If you don't have already run any cell with the plugin you have to create manually that folder."
      ],
      "metadata": {
        "id": "lMG8FOWBeIiR"
      }
    },
    {
      "cell_type": "code",
      "source": [
        "# Upload\n",
        "from google.colab import files\n",
        "uploaded = files.upload()"
      ],
      "metadata": {
        "id": "-UdQcIioqMKn"
      },
      "execution_count": null,
      "outputs": []
    },
    {
      "cell_type": "code",
      "source": [
        "# Download files for run the example\n",
        "# Run this to try it!\n",
        "![ -d src ] || mkdir src\n",
        "!wget https://raw.githubusercontent.com/Ianneee/Cuda_C-Cpp_into_Colab/main/get_devices.cu\n",
        "!mv get_devices.cu src"
      ],
      "metadata": {
        "id": "EwMOMPbX0HPI"
      },
      "execution_count": null,
      "outputs": []
    },
    {
      "cell_type": "code",
      "source": [
        "%%cuda_run\n",
        "# This line just to bypass an exeption and can contain any text"
      ],
      "metadata": {
        "id": "gd6Hw0-Te2bB"
      },
      "execution_count": null,
      "outputs": []
    },
    {
      "cell_type": "markdown",
      "source": [
        "### More\n",
        "The plugin also has other functionalities, such as the one for create a file from each single cell and then compile everything together. You can visit the [repository](https://github.com/andreinechaev/nvcc4jupyter) on github to learn more."
      ],
      "metadata": {
        "id": "Qsc8q0kYmzFr"
      }
    },
    {
      "cell_type": "markdown",
      "source": [
        "_Note: at 05 August 2023 %%cuda_run has a bug and can't run. I've submitted a pull request with a fix and i'm waiting for it to be accepted.\n",
        "Meanwhile, you can use my fork with the fix by replacing the initial instruction with:_\n",
        "```\n",
        "!pip install git+https://github.com/Ianneee/nvcc4jupyter\n",
        "```"
      ],
      "metadata": {
        "id": "COS_SJyxfXeD"
      }
    }
  ]
}